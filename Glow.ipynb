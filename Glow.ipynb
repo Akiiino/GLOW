{
 "cells": [
  {
   "cell_type": "code",
   "execution_count": 1,
   "metadata": {},
   "outputs": [],
   "source": [
    "import torch\n",
    "import torch.nn as nn\n",
    "import torch.nn.functional as F\n",
    "import torchvision.datasets as dsets\n",
    "import torchvision.transforms as transforms\n",
    "import torch.optim as optim\n",
    "\n",
    "if torch.cuda.is_available():\n",
    "    device = torch.device(\"cuda\")\n",
    "else:\n",
    "    device = torch.device(\"cpu\")"
   ]
  },
  {
   "cell_type": "code",
   "execution_count": 2,
   "metadata": {},
   "outputs": [],
   "source": [
    "import numpy as np"
   ]
  },
  {
   "cell_type": "code",
   "execution_count": 3,
   "metadata": {},
   "outputs": [
    {
     "name": "stdout",
     "output_type": "stream",
     "text": [
      "Downloading http://yann.lecun.com/exdb/mnist/train-images-idx3-ubyte.gz\n",
      "Downloading http://yann.lecun.com/exdb/mnist/train-labels-idx1-ubyte.gz\n",
      "Downloading http://yann.lecun.com/exdb/mnist/t10k-images-idx3-ubyte.gz\n",
      "Downloading http://yann.lecun.com/exdb/mnist/t10k-labels-idx1-ubyte.gz\n",
      "Processing...\n",
      "Done!\n"
     ]
    }
   ],
   "source": [
    "train_dataset = dsets.MNIST(root='./MNIST/', \n",
    "                            train=True, \n",
    "                            transform=transforms.ToTensor(),\n",
    "                            download=True)\n",
    "\n",
    "test_dataset = dsets.MNIST(root='./MNIST/', \n",
    "                           train=False, \n",
    "                           transform=transforms.ToTensor())"
   ]
  },
  {
   "cell_type": "code",
   "execution_count": 143,
   "metadata": {},
   "outputs": [],
   "source": [
    "class ActNorm(nn.Module):\n",
    "    def __init__(self, h, w, c):\n",
    "        super().__init__()\n",
    "        self.shape = (h, w, c)\n",
    "        self.initialized = False\n",
    "        self.weights = nn.Parameter(torch.Tensor(c))\n",
    "        self.bias = nn.Parameter(torch.Tensor(c))\n",
    "#         self.weights.data.uniform_(-0.1, 0.1)\n",
    "#         self.bias.data.uniform_(-0.1, 0.1)\n",
    "        \n",
    "    def forward(self, inp):\n",
    "        if not self.initialized:\n",
    "            c = self.shape[-1]\n",
    "            self.weights.data = 1/inp.view(-1, c).std(0)\n",
    "            self.bias.data = -(inp * self.weights).view(-1, c).mean(0)\n",
    "            self.initialized = True\n",
    "        \n",
    "        return inp * self.weights + self.bias\n",
    "    \n",
    "    def reverse(self, out):\n",
    "        return (out - self.bias) / self.weights\n",
    "    \n",
    "    def log_determinant(self):\n",
    "        return self.shape[0] * self.shape[1] * torch.log(torch.abs(self.weights))"
   ]
  },
  {
   "cell_type": "raw",
   "metadata": {},
   "source": [
    "s = (31, 32, 33)\n",
    "a = ActNorm(*s)\n",
    "X = torch.normal(torch.ones(*s)*10, torch.ones(*s)*10)\n",
    "\n",
    "assert all(\n",
    "    (\n",
    "        abs(channel.mean().item()) < 1e-5 and\n",
    "        abs(channel.std().item()-1) < 1e-5\n",
    "    ) for channel in a(X).transpose(0, 2)\n",
    ")\n",
    "\n",
    "del s, a, X"
   ]
  },
  {
   "cell_type": "code",
   "execution_count": 284,
   "metadata": {},
   "outputs": [],
   "source": [
    "class InvertibleConv(nn.Module):\n",
    "    def __init__(self, h, w, c):\n",
    "        super().__init__()\n",
    "        self.shape = (h, w, c)\n",
    "        self.weight = torch.from_numpy(np.linalg.qr(np.random.randn(c, c))[0])\n",
    "                                    \n",
    "    def forward(self, inp):\n",
    "        return torch.einsum(\"abcd,eb->aecd\", (inp, self.weight))\n",
    "    \n",
    "    def reverse(self, out):\n",
    "        return torch.einsum(\"abcd,eb->aecd\", (inp, torch.inverse(self.weight)))\n",
    "    \n",
    "    def log_determinant(self):\n",
    "        return self.shape[0] * self.shape[1] * torch.log(torch.abs(torch.det(self.weight)))"
   ]
  },
  {
   "cell_type": "code",
   "execution_count": 5,
   "metadata": {},
   "outputs": [],
   "source": [
    "class AffineCoupling(nn.Module):\n",
    "    def __init__(self, NN):\n",
    "        super().__init__()\n",
    "        self.NN = NN\n",
    "        \n",
    "    def forward(self, inp):\n",
    "        x_a, x_b = torch.split(inp, inp.shape[2] // 2, dim = 2)\n",
    "        log_s, t = self.NN(x_b)\n",
    "        s = torch.exp(log_s)\n",
    "        y_a = s * x_a + t\n",
    "        return torch.cat([y_a, x_b], dim = 2)\n",
    "    \n",
    "    def reverse(self, out):\n",
    "        y_a, y_b = torch.split(out, out.shape[2] // 2, dim = 2)\n",
    "        log_s, t = self.NN(y_b)\n",
    "        s = torch.exp(log_s)\n",
    "        x_a = (y_a - t) / s\n",
    "        return torch.cat([x_a, y_b], dim = 2)\n",
    "\n",
    "    def log_determinant(self, inp):\n",
    "        x_a, x_b = torch.split(inp, inp.shape[2] // 2, dim = 2)\n",
    "        log_s, t = self.NN(x_b)\n",
    "        s = torch.exp(log_s)\n",
    "        return torch.sum(torch.log(torch.abs(s)))"
   ]
  },
  {
   "cell_type": "code",
   "execution_count": 6,
   "metadata": {},
   "outputs": [],
   "source": [
    "class GlowModel(nn.Module):\n",
    "    def __init__(self):\n",
    "        super().__init__()"
   ]
  }
 ],
 "metadata": {
  "kernelspec": {
   "display_name": "Python 3",
   "language": "python",
   "name": "python3"
  },
  "language_info": {
   "codemirror_mode": {
    "name": "ipython",
    "version": 3
   },
   "file_extension": ".py",
   "mimetype": "text/x-python",
   "name": "python",
   "nbconvert_exporter": "python",
   "pygments_lexer": "ipython3",
   "version": "3.6.6"
  }
 },
 "nbformat": 4,
 "nbformat_minor": 2
}
