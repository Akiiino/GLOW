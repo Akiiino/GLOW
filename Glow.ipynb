{
 "cells": [
  {
   "cell_type": "code",
   "execution_count": 1,
   "metadata": {},
   "outputs": [],
   "source": [
    "import torch\n",
    "import torch.nn as nn\n",
    "import torch.nn.functional as F\n",
    "import torchvision.datasets as dsets\n",
    "import torchvision.transforms as transforms\n",
    "import torch.optim as optim\n",
    "\n",
    "if torch.cuda.is_available():\n",
    "    device = torch.device(\"cuda\")\n",
    "else:\n",
    "    device = torch.device(\"cpu\")"
   ]
  },
  {
   "cell_type": "code",
   "execution_count": 2,
   "metadata": {},
   "outputs": [],
   "source": [
    "train_dataset = dsets.MNIST(root='./MNIST/', \n",
    "                            train=True, \n",
    "                            transform=transforms.ToTensor(),\n",
    "                            download=True)\n",
    "\n",
    "test_dataset = dsets.MNIST(root='./MNIST/', \n",
    "                           train=False, \n",
    "                           transform=transforms.ToTensor())"
   ]
  },
  {
   "cell_type": "code",
   "execution_count": 3,
   "metadata": {},
   "outputs": [],
   "source": [
    "class ActNorm(nn.Module):\n",
    "    def __init__(self, h, w, c):\n",
    "        super().__init__()\n",
    "        self.shape = (h, w, c)\n",
    "        self.weights = nn.Parameter(torch.Tensor(c))\n",
    "        self.bias = nn.Parameter(torch.Tensor(c))\n",
    "        self.weights.data.uniform_(-0.1, 0.1)\n",
    "        self.bias.data.uniform_(-0.1, 0.1)\n",
    "        \n",
    "    def forward(self, inp):\n",
    "        return inp * self.weights + self.bias\n",
    "    \n",
    "    def log_determinant(self):\n",
    "        return self.shape[0] * self.shape[1] * torch.log(torch.abs(self.weights))"
   ]
  },
  {
   "cell_type": "code",
   "execution_count": 4,
   "metadata": {},
   "outputs": [],
   "source": [
    "class InvertibleConv(nn.Module):\n",
    "    def __init__(self, h, w, c):\n",
    "        super().__init__()\n",
    "        self.shape = (h, w, c)\n",
    "        self.weights = nn.Parameter(torch.Tensor((c, c)))\n",
    "        self.weights.data.uniform_(-0.1, 0.1) #надо нормально сделать\n",
    "                                    \n",
    "    def forward(self, inp):\n",
    "        return torch.dot(inp, self.weights)\n",
    "    \n",
    "    def log_determinant(self):\n",
    "        return self.shape[0] * self.shape[1] * torch.log(torch.abs(torch.det(self.weights)))"
   ]
  },
  {
   "cell_type": "code",
   "execution_count": 5,
   "metadata": {},
   "outputs": [],
   "source": [
    "class InvertibleConv(nn.Module):\n",
    "    def __init__(self, NN):\n",
    "        super().__init__()\n",
    "        self.NN = NN\n",
    "        \n",
    "    def forward(self, inp):\n",
    "        x_a, x_b = torch.split(inp, inp.shape[2] // 2, dim = 2)\n",
    "        log_s, t = self.NN(x_b)\n",
    "        s = torch.exp(log_s)\n",
    "        y_a = s * x_a + t\n",
    "        return torch.cat([y_a, x_b], dim = 2)\n",
    "\n",
    "    def log_determinant(self, inp):\n",
    "        x_a, x_b = torch.split(inp, inp.shape[2] // 2, dim = 2)\n",
    "        log_s, t = self.NN(x_b)\n",
    "        s = torch.exp(log_s)\n",
    "        return torch.sum(torch.log(torch.abs(s)))"
   ]
  },
  {
   "cell_type": "code",
   "execution_count": 6,
   "metadata": {},
   "outputs": [],
   "source": [
    "class GlowModel(nn.Module):\n",
    "    def __init__(self):\n",
    "        super().__init__()\n",
    "        "
   ]
  },
  {
   "cell_type": "code",
   "execution_count": null,
   "metadata": {},
   "outputs": [],
   "source": []
  }
 ],
 "metadata": {
  "kernelspec": {
   "display_name": "Python 3",
   "language": "python",
   "name": "python3"
  },
  "language_info": {
   "codemirror_mode": {
    "name": "ipython",
    "version": 3
   },
   "file_extension": ".py",
   "mimetype": "text/x-python",
   "name": "python",
   "nbconvert_exporter": "python",
   "pygments_lexer": "ipython3",
   "version": "3.6.8"
  }
 },
 "nbformat": 4,
 "nbformat_minor": 2
}
